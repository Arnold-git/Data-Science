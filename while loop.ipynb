{
 "cells": [
  {
   "cell_type": "code",
   "execution_count": null,
   "metadata": {},
   "outputs": [],
   "source": [
    "x=0\n",
    "\n",
    "while x<5:\n",
    "    print('x is currently:',x)\n",
    "    print('x is still less than 5, adding 1 to x')\n",
    "    x=x+1\n",
    "else:\n",
    "    print('x is not less than 5')"
   ]
  },
  {
   "cell_type": "code",
   "execution_count": null,
   "metadata": {},
   "outputs": [],
   "source": [
    "x=0\n",
    "\n",
    "while x<5:\n",
    "    print('x is less than 5', x)\n",
    "     x+=1\n",
    "    if x==3:\n",
    "    print('finished')\n",
    "      break\n",
    "    "
   ]
  },
  {
   "cell_type": "code",
   "execution_count": null,
   "metadata": {},
   "outputs": [],
   "source": [
    "x=0\n",
    "\n",
    "while x<5:\n",
    "    print('x is less than 5:',x)\n",
    "    print('x is still less than 5, adding 1 to x')\n",
    "    x+=1\n",
    "    if x==3:\n",
    "        print('Breaking...')\n",
    "        break"
   ]
  },
  {
   "cell_type": "code",
   "execution_count": null,
   "metadata": {},
   "outputs": [],
   "source": [
    "x=0\n",
    "\n",
    "while x<5:\n",
    "    print('x is less than 5:',x)\n",
    "    x+=1\n",
    "    if x==3:\n",
    "        print('Breaking...')\n",
    "        break"
   ]
  },
  {
   "cell_type": "code",
   "execution_count": 2,
   "metadata": {},
   "outputs": [
    {
     "ename": "IndentationError",
     "evalue": "unindent does not match any outer indentation level (<tokenize>, line 22)",
     "output_type": "error",
     "traceback": [
      "\u001b[1;36m  File \u001b[1;32m\"<tokenize>\"\u001b[1;36m, line \u001b[1;32m22\u001b[0m\n\u001b[1;33m    elif user_input == \"add\":\u001b[0m\n\u001b[1;37m    ^\u001b[0m\n\u001b[1;31mIndentationError\u001b[0m\u001b[1;31m:\u001b[0m unindent does not match any outer indentation level\n"
     ]
    }
   ],
   "source": [
    "while True:\n",
    "   print(\"Options:\")\n",
    "   print(\"Enter 'add' to add two numbers\")\n",
    "   print(\"Enter 'subtract' to subtract two numbers\")\n",
    "   print(\"Enter 'multiply' to multiply two numbers\")\n",
    "   print(\"Enter 'divide' to divide two numbers\")\n",
    "   print(\"Enter 'quit' to end the program\")\n",
    "   user_input = input(\": \")\n",
    "\n",
    "   if user_input == \"quit\":\n",
    "      break\n",
    "   elif user_input == \"add\":\n",
    "      ...\n",
    "   elif user_input == \"subtract\":\n",
    "      ...\n",
    "   elif user_input == \"multiply\":\n",
    "      ...\n",
    "   elif user_input == \"divide\":\n",
    "      ...\n",
    "   else:\n",
    "      print(\"Unknown input\")\n",
    "    elif user_input == \"add\":\n",
    "  num1 = float(input(\"Enter a number: \"))\n",
    "  num2 = float(input(\"Enter another number: \"))\n",
    "    elif user_input == \"add\":\n",
    "  num1 = float(input(\"Enter a number: \"))\n",
    "  num2 = float(input(\"Enter another number: \"))\n",
    "  result = str(num1 + num2)\n",
    "  print(\"The answer is \" + result)"
   ]
  },
  {
   "cell_type": "code",
   "execution_count": 6,
   "metadata": {},
   "outputs": [],
   "source": [
    "my_list=list(range(0,21))"
   ]
  },
  {
   "cell_type": "code",
   "execution_count": 9,
   "metadata": {},
   "outputs": [
    {
     "name": "stdout",
     "output_type": "stream",
     "text": [
      "20\n"
     ]
    }
   ],
   "source": [
    "if items%2==0:\n",
    "    print(items)\n",
    "else:\n",
    "    print(f'odd number: {items}')"
   ]
  },
  {
   "cell_type": "code",
   "execution_count": 10,
   "metadata": {},
   "outputs": [
    {
     "data": {
      "text/plain": [
       "[0, 1, 2, 3, 4, 5, 6, 7, 8, 9, 10, 11, 12, 13, 14, 15, 16, 17, 18, 19, 20]"
      ]
     },
     "execution_count": 10,
     "metadata": {},
     "output_type": "execute_result"
    }
   ],
   "source": [
    "my_list"
   ]
  },
  {
   "cell_type": "code",
   "execution_count": 8,
   "metadata": {},
   "outputs": [
    {
     "name": "stdout",
     "output_type": "stream",
     "text": [
      "0\n",
      "odd num: 1\n",
      "2\n",
      "odd num: 3\n",
      "4\n",
      "odd num: 5\n",
      "6\n",
      "odd num: 7\n",
      "8\n",
      "odd num: 9\n",
      "10\n",
      "odd num: 11\n",
      "12\n",
      "odd num: 13\n",
      "14\n",
      "odd num: 15\n",
      "16\n",
      "odd num: 17\n",
      "18\n",
      "odd num: 19\n",
      "20\n"
     ]
    }
   ],
   "source": [
    "for items in my_list:\n",
    "    if items%2==0:\n",
    "        print(items)\n",
    "    else:\n",
    "        print(f'odd num: {items}')\n",
    "    "
   ]
  },
  {
   "cell_type": "code",
   "execution_count": 13,
   "metadata": {},
   "outputs": [
    {
     "name": "stdout",
     "output_type": "stream",
     "text": [
      "At index 0 the letter is a\n",
      "At index 1 the letter is b\n",
      "At index 2 the letter is c\n",
      "At index 3 the letter is d\n",
      "At index 4 the letter is e\n"
     ]
    }
   ],
   "source": [
    "index_count=0\n",
    "\n",
    "for letter in 'abcde':\n",
    "    print(f'At index {index_count} the letter is {letter}')\n",
    "    index_count+=1"
   ]
  },
  {
   "cell_type": "code",
   "execution_count": null,
   "metadata": {},
   "outputs": [],
   "source": []
  }
 ],
 "metadata": {
  "kernelspec": {
   "display_name": "Python 3",
   "language": "python",
   "name": "python3"
  },
  "language_info": {
   "codemirror_mode": {
    "name": "ipython",
    "version": 3
   },
   "file_extension": ".py",
   "mimetype": "text/x-python",
   "name": "python",
   "nbconvert_exporter": "python",
   "pygments_lexer": "ipython3",
   "version": "3.7.1"
  }
 },
 "nbformat": 4,
 "nbformat_minor": 2
}
